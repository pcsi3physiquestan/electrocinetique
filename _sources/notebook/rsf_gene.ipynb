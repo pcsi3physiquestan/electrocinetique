{
 "cells": [
  {
   "cell_type": "markdown",
   "id": "dbd0212a",
   "metadata": {},
   "source": [
    "# Régime sinusoïdal forcé\n",
    "\n",
    "````{important} __Fondamental : Régime sinusoïdal forcé__\n",
    "\n",
    "Lorsqu'un circuit __linéaire stable__ est soumis __à une excitation sinusoïdale__, le régime transitoire s'atténue au bout d'un temps et il s'établit un régime forcé appelé régime sinusoïdal forcé. Toutes les grandeurs variables du circuit __ont alors la forme mathématique d'un sinusoïde de même pulsation que l'excitation.__\n",
    "\n",
    "````\n",
    "\n",
    "````{admonition} Exercice Système stable et instable\n",
    ":class: attention\n",
    "\n",
    "```{figure} ./images/stable_instable.png\n",
    ":name: fig_184\n",
    ":align: center\n",
    "\n",
    "```\n",
    "\n",
    "On a représenté ci-avant un système stable (gauche) tendant vers un régime sinusoïdal forcé et un système instable (droite) divergeant.\n",
    "\n",
    "````"
   ]
  }
 ],
 "metadata": {
  "jupytext": {
   "encoding": "# -*- coding: utf-8 -*-",
   "formats": "ipynb,md:myst",
   "split_at_heading": true,
   "text_representation": {
    "extension": ".md",
    "format_name": "myst",
    "format_version": 0.13,
    "jupytext_version": "1.10.3"
   }
  },
  "kernelspec": {
   "display_name": "Python 3",
   "language": "python",
   "name": "python3"
  },
  "language_info": {
   "codemirror_mode": {
    "name": "ipython",
    "version": 3
   },
   "file_extension": ".py",
   "mimetype": "text/x-python",
   "name": "python",
   "nbconvert_exporter": "python",
   "pygments_lexer": "ipython3",
   "version": "3.7.12"
  },
  "source_map": [
   15
  ]
 },
 "nbformat": 4,
 "nbformat_minor": 5
}