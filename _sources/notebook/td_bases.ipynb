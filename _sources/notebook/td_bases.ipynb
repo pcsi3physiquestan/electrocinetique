{
 "cells": [
  {
   "cell_type": "markdown",
   "id": "pharmaceutical-corruption",
   "metadata": {},
   "source": [
    "# TD Electrocinétique 1: Bases\n",
    "\n",
    "## Accumulateurs\n",
    "\n",
    "````{admonition} Exercice \n",
    ":class: attention\n",
    "\n",
    "On considère le circuit suivant où R est une résistance variable et les fem $E_1$ et $E_2$ sont positives et $E_1 > E_2$. Déterminer suivant les valeurs de R le comportement recepteur ou générateur deux fem.\n",
    "\n",
    "```{figure} ./images/elec_accumulateur.jpg\n",
    ":name: fig_111\n",
    ":align: center\n",
    "```\n",
    "````\n",
    "\n",
    "````{dropdown} Correction\n",
    "\n",
    "__Réponse (sans justification)__  \n",
    "Valeur critique de R: $R_{eq} = \\frac{R_1 E_1}{E_1 - E_2}$. Pour $R_{eq} < R$, $E_2$ a un comportement récepteur et pour $R_{eq} > R$, $E_2$ a un comportement générateur. $E_1$ a toujours un comportement générateur.\n",
    "````"
   ]
  }
 ],
 "metadata": {
  "jupytext": {
   "encoding": "# -*- coding: utf-8 -*-",
   "formats": "ipynb,md:myst",
   "split_at_heading": true,
   "text_representation": {
    "extension": ".md",
    "format_name": "myst",
    "format_version": 0.13,
    "jupytext_version": "1.10.3"
   }
  },
  "kernelspec": {
   "display_name": "Python 3",
   "language": "python",
   "name": "python3"
  },
  "language_info": {
   "codemirror_mode": {
    "name": "ipython",
    "version": 3
   },
   "file_extension": ".py",
   "mimetype": "text/x-python",
   "name": "python",
   "nbconvert_exporter": "python",
   "pygments_lexer": "ipython3",
   "version": "3.9.2"
  },
  "source_map": [
   15
  ]
 },
 "nbformat": 4,
 "nbformat_minor": 5
}