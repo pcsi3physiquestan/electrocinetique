{
 "cells": [
  {
   "cell_type": "markdown",
   "id": "informative-silence",
   "metadata": {},
   "source": [
    "# Système linéaire\n",
    "Le but est de voir comment utiliser la méthode d'intégration d'Euler explicite pour étudier le régime transitoire d'un système d'équations. On a alors un système d'équations différentielles. On s'intéresse au pont de Wien en régime libre :\n",
    "\n",
    "![Circuit de Wien](images/wien_circuit.png)\n",
    "\n",
    "> __Exercice :__\n",
    "> 1. Montrer par le calcul que ce circuit est régit par le système d'équation suivant :\n",
    "> \n",
    "$$ {\\rm{d} \\over \\rm{d}t}\n",
    "\\begin{pmatrix}\n",
    "u\\\\\n",
    "v\n",
    "\\end{pmatrix}\n",
    "=\n",
    "\\begin{pmatrix}\n",
    "- {1 \\over RC} v - {2 \\over RC} u\\\\\n",
    "- {1 \\over RC} v - {1 \\over RC} u\n",
    "\\end{pmatrix}\n",
    "$$\n",
    "\n",
    "On peut alors utiliser un schéma d'Euler explicite sur le vecteur :\n",
    "\n",
    "$$ Y(t)=\n",
    "\\begin{pmatrix}\n",
    "u(t)\\\\\n",
    "v(t)\n",
    "\\end{pmatrix}\n",
    "$$\n",
    "dont la dérivée s'écrit :\n",
    "\n",
    "\\begin{equation}\n",
    "{\\rm{d}Y \\over \\rm{d}t} = F(Y, t)\n",
    "\\end{equation}\n",
    "\n",
    "avec :\n",
    "\n",
    "$$ F(Y, t) = \n",
    "\\begin{pmatrix}\n",
    "- {1 \\over RC} v - {2 \\over RC} u\\\\\n",
    "- {1 \\over RC} v - {1 \\over RC} u\n",
    "\\end{pmatrix}\n",
    "$$\n",
    "\n",
    "_On rappelle que d'un point de vue vectoriel : \n",
    "* `u = Y[0]` et `v = Y[1]`_.\n",
    "* `F` prend comme argument un vecteur `Y` et renvoie un vecteur de taille 2.\n",
    "* On a techniquement pas besoin du temps puisque `F` ne dépend pas explicitement du temps mais on prendra l'habitutde de le mettre comme argument même si on ne l'utilise pas (pour des fonctions comme `odeint`)."
   ]
  },
  {
   "cell_type": "markdown",
   "id": "modern-deposit",
   "metadata": {},
   "source": [
    "> __Exercice :__  \n",
    "> Pour les études numériques, on prend $R=1k\\Omega$ et $C= 1nF$.\n",
    "> \n",
    "> 2. Ecrire une fonction `F(Y, t)` qui prend comme argument le vecteur `Y` et l'instant `t` et qui renvoie un __vecteur__ numpy de taille 2 correspondant au vecteur donné précédemment.\n",
    "> 3. Ecrire une fonction `euler(F, Y0, tf, pas)` qui prend comme argument la fonction `F`, un vecteur `Y0` donnant les conditions initiales $u(0), v(0)$, et qui réalise l'intégration d'Euler par `pas` d'intégration de $t=0$ à `tf`.Elle renverra un tableaux numpy à deux colonnes contenant pour chaque lignes les valeurs de Y aux temps $t_k$ et un vecteur numpy contenant les temps $t_k$.\n",
    "> 4. Obtenir l'expression théorique de $u(t)$ et $v(t)$ par le calcul pour un jeu de conditions initiales $u0, v0$ puis créer deux fonctions `u_th(t, Y0)` et `v_th(t, Y0)` qui renvoie un vecteur des valeurs de u (ou v) par l'expression théorique obtenue pour un vecteur de valeurs de temps `t`.\n",
    "> 5. Obtenir puis tracer l'évolution temporelle de $u(t)$ et $v(t)$ par intégration numérique ainsi que par calcul théorique et comparer les deux tracés. On adaptera le pas d'intégration pour limiter les écarts. On prend $u(0) = 0; v(0) = v_0 = 1V$.\n",
    "\n",
    "_Indications utiles_ :\n",
    "* Pensez à utiliser l'étude théorique pour choisir un temps `tf` adapté."
   ]
  }
 ],
 "metadata": {
  "kernelspec": {
   "display_name": "Python 3",
   "language": "python",
   "name": "python3"
  },
  "language_info": {
   "codemirror_mode": {
    "name": "ipython",
    "version": 3
   },
   "file_extension": ".py",
   "mimetype": "text/x-python",
   "name": "python",
   "nbconvert_exporter": "python",
   "pygments_lexer": "ipython3",
   "version": "3.9.2"
  }
 },
 "nbformat": 4,
 "nbformat_minor": 5
}
