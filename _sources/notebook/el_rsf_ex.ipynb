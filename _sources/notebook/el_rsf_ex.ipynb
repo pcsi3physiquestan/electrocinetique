{
 "cells": [
  {
   "cell_type": "markdown",
   "id": "collectible-cursor",
   "metadata": {},
   "source": [
    "# Maitriser les méthodes\n",
    "* Méthodes : Etude d'un circuit en RSF et caractéristiques HF et BF\n",
    "* Activités : Etudes du RLC série\n",
    "* Applications\n",
    "* Entrainements : Un devoir libre est disponible [en ligne](https://stanislas.edunao.com/mod/resource/view.php?id=12842) sur le RSF."
   ]
  }
 ],
 "metadata": {
  "jupytext": {
   "encoding": "# -*- coding: utf-8 -*-",
   "formats": "ipynb,md:myst",
   "split_at_heading": true,
   "text_representation": {
    "extension": ".md",
    "format_name": "myst",
    "format_version": 0.13,
    "jupytext_version": "1.10.3"
   }
  },
  "kernelspec": {
   "display_name": "Python 3",
   "language": "python",
   "name": "python3"
  },
  "language_info": {
   "codemirror_mode": {
    "name": "ipython",
    "version": 3
   },
   "file_extension": ".py",
   "mimetype": "text/x-python",
   "name": "python",
   "nbconvert_exporter": "python",
   "pygments_lexer": "ipython3",
   "version": "3.9.2"
  },
  "source_map": [
   15
  ]
 },
 "nbformat": 4,
 "nbformat_minor": 5
}