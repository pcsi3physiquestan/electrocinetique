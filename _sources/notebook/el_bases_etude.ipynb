{
 "cells": [
  {
   "cell_type": "markdown",
   "id": "d0563be9",
   "metadata": {},
   "source": [
    "# Etude d'un circuit linéaire\n",
    "\n",
    "Pour étudier un circuit linéaire (ie. trouver une ou plusieurs grandeurs du circuit), il existe différentes méthodes:\n",
    "* Utiliser les lois des noeuds et des mailles combinées (cf. l'[exemple ici](etude_lois))\n",
    "* Utiliser une(des) loi(s) des noeuds traduites en terme de potentiel (cf. [le même exemple](etude_lois)) \n",
    "* Reconnaître et utilisée des ponts diviseurs comme présentés ci-dessous. Cette méthode est souvent combinée avec l'utilisation de résistances équivalentes.\n",
    "\n",
    "\n",
    "\n",
    "## Pont diviseur de tension\n",
    "\n",
    "````{important} \n",
    "__Pont diviseur de tension__\n",
    "\n",
    "Considérons N résistances en série dont les résistances sont $\\{R_i \\vert i \\in [\\![1;n]\\!]\\}$ aux bornes de laquelle la tension est u.\n",
    "\n",
    "```{figure} ./images/elec_resistance_serie.png\n",
    ":name: fig_131\n",
    ":align: center\n",
    "\n",
    "```\n",
    "\n",
    "L'intensité circulant dans l'ensemble est:\n",
    "\n",
    "$$\n",
    "i = \\frac{u}{\\sum_{i=1}^{i=n} R_i}\n",
    "$$\n",
    "Et la tension u se divise dans chaque dipôle. La tension aux bornes de la résistance $R_k$ est:\n",
    "\n",
    "$$\n",
    "u_k = \\frac{R_k}{\\sum_{i=1}^{i=n} R_i} u\n",
    "$$\\end{basic}\n",
    "````\n",
    "\n",
    "````{topic} Démonstration  \n",
    "On peut utiliser l'additivité des tensions: $u = \\sum_{i=1}^{i=n} u_k = \\sum_{i=1}^{i=n} R_k i = $ d'où l'expression de l'intensité.\n",
    "\n",
    "De $u_k = R_k i$, on obtient l'expression de la tension.\n",
    "````\n",
    "\n",
    "Cf. [cet exemple](pont_div) pour savoir comment repérer un pont diviseur de tension.\n",
    "\n",
    "## Pont diviseur de courant\n",
    "````{important} __Pont diviseur de courant__\n",
    "Considérons N résistances en parallèle dont les conductances sont $\\{G_i \\vert i \\in [\\![1;n]\\!]\\}$ dans laquelle entre une intensité totale i.\n",
    "\n",
    "```{figure} ./images/elec_resistance_parallele.png\n",
    ":name: fig_132\n",
    ":align: center\n",
    "\n",
    "```\n",
    "\n",
    "La tension aux bornes de l'ensemble est:\n",
    "\n",
    "$$\n",
    "u = \\frac{i}{\\sum_{i=1}^{i=n} G_i}\n",
    "$$\n",
    "Et le courant i se divise dans chaque branche. L'intensité aux bornes de la résistance $R_k$ est:\n",
    "\n",
    "$$\n",
    "i_k = \\frac{G_k}{\\sum_{i=1}^{i=n} G_i} i\n",
    "$$\n",
    "````\n",
    "\n",
    "````{topic} Démonstration  \n",
    "On peut écrire une loi des noeuds: $i = \\sum_{i=1}^{i=n} i_k = \\sum_{i=1}^{i=n} G_k u = $ d'où l'expression de la tension.\n",
    "\n",
    "De $i_k = G_k u$, on obtient l'expression de l'intensité.\n",
    "````"
   ]
  }
 ],
 "metadata": {
  "jupytext": {
   "encoding": "# -*- coding: utf-8 -*-",
   "formats": "ipynb,md:myst",
   "split_at_heading": true,
   "text_representation": {
    "extension": ".md",
    "format_name": "myst",
    "format_version": 0.13,
    "jupytext_version": "1.10.3"
   }
  },
  "kernelspec": {
   "display_name": "Python 3",
   "language": "python",
   "name": "python3"
  },
  "language_info": {
   "codemirror_mode": {
    "name": "ipython",
    "version": 3
   },
   "file_extension": ".py",
   "mimetype": "text/x-python",
   "name": "python",
   "nbconvert_exporter": "python",
   "pygments_lexer": "ipython3",
   "version": "3.7.12"
  },
  "source_map": [
   15
  ]
 },
 "nbformat": 4,
 "nbformat_minor": 5
}