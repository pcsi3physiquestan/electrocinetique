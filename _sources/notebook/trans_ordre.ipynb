{
 "cells": [
  {
   "cell_type": "markdown",
   "id": "regulation-material",
   "metadata": {},
   "source": [
    "# Régime transitoire (2): Ordre 1 et 2\n",
    "\n",
    "````{admonition} Objectifs\n",
    ":class: hint\n",
    "* Ecrire sous forme canonique l'équation différentielle pour un système d'ordre 1 ou 2\n",
    "* Déterminer un ordre de grandeur de la durée d'un régime transitoire suivant la typologie du système.\n",
    "* Réaliser des bilans énergétiques et des bilans de puissances sur des systèmes d'ordre 1 ou 2.\n",
    "* Analyser, sur des relevés expérimentaux, le type de régime transitoire en fonction des paramètres caractéristiques pour un système d'ordre 2.\n",
    "* Connaître la nature de la réponse d'un système d'ordre 2 en fonction de la valeur du facteur de qualité ou du coefficient d'amortissement.\n",
    "* Établir et reconnaître l'équation différentielle qui caractérise un oscillateur harmonique.\n",
    "* Savoir réaliser une étude complète d'un système de son précédent état à son nouvel état forcé en déterminer le régime transitoire.\n",
    "````"
   ]
  }
 ],
 "metadata": {
  "jupytext": {
   "encoding": "# -*- coding: utf-8 -*-",
   "formats": "ipynb,md:myst",
   "split_at_heading": true,
   "text_representation": {
    "extension": ".md",
    "format_name": "myst",
    "format_version": 0.13,
    "jupytext_version": "1.10.3"
   }
  },
  "kernelspec": {
   "display_name": "Python 3",
   "language": "python",
   "name": "python3"
  },
  "language_info": {
   "codemirror_mode": {
    "name": "ipython",
    "version": 3
   },
   "file_extension": ".py",
   "mimetype": "text/x-python",
   "name": "python",
   "nbconvert_exporter": "python",
   "pygments_lexer": "ipython3",
   "version": "3.9.2"
  },
  "source_map": [
   15
  ]
 },
 "nbformat": 4,
 "nbformat_minor": 5
}