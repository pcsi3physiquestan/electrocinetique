{
 "cells": [
  {
   "cell_type": "markdown",
   "id": "8b65aac4",
   "metadata": {},
   "source": [
    "# Maitriser les méthodes\n",
    "* Méthodes : Vision miscroscopie de la conduction, étude de circuit, dipôles équivalents et études énergétiques\n",
    "* Activités : Résistances d'entrée et de sortie\n",
    "* Applications : Exercice dans le polycopié et deux exercices en ligne ([questions de base](https://stanislas.edunao.com/mod/quiz/view.php?id=12828) et [manipulation de circuits](https://stanislas.edunao.com/mod/quiz/view.php?id=12829))\n",
    "* Entrainements : Dans le polycopié\n",
    "* Approfondissements : Pas d'approfondissement mais deux devoirs libres dont celui sur [l'Amplificateur opérationnel](https://stanislas.edunao.com/mod/resource/view.php?id=12833) qui fera office de cours et qui sera à traiter durant les vacances."
   ]
  }
 ],
 "metadata": {
  "jupytext": {
   "encoding": "# -*- coding: utf-8 -*-",
   "formats": "ipynb,md:myst",
   "split_at_heading": true,
   "text_representation": {
    "extension": ".md",
    "format_name": "myst",
    "format_version": 0.13,
    "jupytext_version": "1.10.3"
   }
  },
  "kernelspec": {
   "display_name": "Python 3",
   "language": "python",
   "name": "python3"
  },
  "language_info": {
   "codemirror_mode": {
    "name": "ipython",
    "version": 3
   },
   "file_extension": ".py",
   "mimetype": "text/x-python",
   "name": "python",
   "nbconvert_exporter": "python",
   "pygments_lexer": "ipython3",
   "version": "3.7.12"
  },
  "source_map": [
   15
  ]
 },
 "nbformat": 4,
 "nbformat_minor": 5
}