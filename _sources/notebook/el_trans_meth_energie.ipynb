{
 "cells": [
  {
   "cell_type": "markdown",
   "id": "37a11ac6",
   "metadata": {},
   "source": [
    "# Etude énergétique\n",
    "\n",
    "````{admonition} Exercice \n",
    ":class: attention\n",
    "\n",
    "On considère un dipôle RLC série en régime libre.\n",
    "\n",
    "1. Faire un bilan de puissance. Commenter l'évolution de l'énergie emmagasinée par le dipôle RLC.\n",
    "1. Dans le cas d'un régime apériodique, exprimer l'évolution de l'énergie emmagasinée dans la bobine et dans le condensateur ainsi que l'énergie totale emmagasinée dans le dipôle RLC.\n",
    "\n",
    "On considère un dipôle RLC série branché à une source idéale de tension E.\n",
    "\n",
    "1. Faire un bilan de puissance. Commenter l'évolution de l'énergie emmagasinée par le dipôle RLC.\n",
    "1. Dans le cas d'un régime pseudo-périodique, exprimer l'évolution de l'énergie emmagasinée dans la bobine et dans le condensateur ainsi que l'énergie totale emmagasinée dans le dipôle RLC.\n",
    "````\n",
    "\n",
    "```{admonition} Bilan de puissance et d'énergie.\n",
    ":class: important\n",
    "\n",
    "Dans un dipôle RLC en régime libre, la bobine et le condensateur perdent de la puissance. Elle est intégralement dissipée par effet Joule dans la résistance. L'énergie stockée tend à diminuer jusqu'à 0\n",
    "\n",
    "Lorsqu'on branche une fem E, la puissance reçue par la bobine et le condensateur correspond à la puissance fournir par E moins celle dissipée par la résistance. Suivant que la résistance dissipe plus d'énergie que ne fournit la fem ou l'inverse, l'énergie stockée tend à augmenter ou diminuer. On finit par tendre vers une énergie stockée uniquement dans le condensateur __(pour CE circuit, pas dans tous les cas)__.\n",
    "```"
   ]
  }
 ],
 "metadata": {
  "jupytext": {
   "encoding": "# -*- coding: utf-8 -*-",
   "formats": "ipynb,md:myst",
   "split_at_heading": true,
   "text_representation": {
    "extension": ".md",
    "format_name": "myst",
    "format_version": 0.13,
    "jupytext_version": "1.10.3"
   }
  },
  "kernelspec": {
   "display_name": "Python 3",
   "language": "python",
   "name": "python3"
  },
  "language_info": {
   "codemirror_mode": {
    "name": "ipython",
    "version": 3
   },
   "file_extension": ".py",
   "mimetype": "text/x-python",
   "name": "python",
   "nbconvert_exporter": "python",
   "pygments_lexer": "ipython3",
   "version": "3.7.12"
  },
  "source_map": [
   15
  ]
 },
 "nbformat": 4,
 "nbformat_minor": 5
}