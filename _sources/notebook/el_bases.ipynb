{
 "cells": [
  {
   "cell_type": "markdown",
   "id": "demanding-cabin",
   "metadata": {},
   "source": [
    "# Bases de l'électrocinétique\n",
    "\n",
    "````{admonition} Objectifs\n",
    ":class: hint\n",
    "* Savoir que la charge est quantifiée.\n",
    "* Exprimer l'intensité du courant électrique en termes de débit de charges\n",
    "* Exprimer la condition d'ARQS en fonction de la taille du circuit et de la fréquence\n",
    "* Relier la loi des noeuds au postulat de la conservation de la charge\n",
    "* Utiliser la loi des mailles\n",
    "* Réécrire la loi des noeuds en terme de potentiel électrique\n",
    "* Algébriser les grandeurs électriques et utiliser les conventions récepteur et générateur\n",
    "* Citer les ordres de grandeurs des tensions et intensités dans différentes domaines d'application\n",
    "* Exprimer la puissance échangée entre un dipôle et le reste du circuit et déterminer si elle est reçue ou fournie par le dipôle\n",
    "* Analyser le comportement générateur ou récepteur d'un dipôle de manière graphique ou analytique\n",
    "````"
   ]
  }
 ],
 "metadata": {
  "jupytext": {
   "encoding": "# -*- coding: utf-8 -*-",
   "formats": "ipynb,md:myst",
   "split_at_heading": true,
   "text_representation": {
    "extension": ".md",
    "format_name": "myst",
    "format_version": 0.13,
    "jupytext_version": "1.10.3"
   }
  },
  "kernelspec": {
   "display_name": "Python 3",
   "language": "python",
   "name": "python3"
  },
  "language_info": {
   "codemirror_mode": {
    "name": "ipython",
    "version": 3
   },
   "file_extension": ".py",
   "mimetype": "text/x-python",
   "name": "python",
   "nbconvert_exporter": "python",
   "pygments_lexer": "ipython3",
   "version": "3.9.2"
  },
  "source_map": [
   15
  ]
 },
 "nbformat": 4,
 "nbformat_minor": 5
}