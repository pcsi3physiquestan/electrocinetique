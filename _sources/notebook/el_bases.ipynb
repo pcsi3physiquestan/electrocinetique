{
 "cells": [
  {
   "cell_type": "markdown",
   "id": "167b4fbe",
   "metadata": {},
   "source": [
    "# Bases de l'électrocinétique\n",
    "<!-- TODO: Revoir la liste des compétences -->\n",
    "````{admonition} Compétences\n",
    ":class: tip\n",
    "* Savoir que la charge est quantifiée.\n",
    "* Exprimer l'intensité du courant électrique en termes de débit de charges\n",
    "* Exprimer la condition d'ARQS en fonction de la taille du circuit et de la fréquence\n",
    "* Relier la loi des noeuds au postulat de la conservation de la charge\n",
    "* Utiliser la loi des mailles\n",
    "* Réécrire la loi des noeuds en terme de potentiel électrique\n",
    "* Algébriser les grandeurs électriques et utiliser les conventions récepteur et générateur\n",
    "* Citer les ordres de grandeurs des tensions et intensités dans différentes domaines d'application\n",
    "* Exprimer la puissance échangée entre un dipôle et le reste du circuit et déterminer si elle est reçue ou fournie par le dipôle\n",
    "* Analyser le comportement générateur ou récepteur d'un dipôle de manière graphique ou analytique\n",
    "* Étudier la caractéristique statique d'un dipôle pouvant être non linéaire.\n",
    "* Utiliser les relations entre l'intensité et la tension\n",
    "* Connaître les relations intensité-tension dans les cas usuels (résistance, bobine, condensateur, source)\n",
    "* Citer les ordres de grandeurs des composants R, L et C\n",
    "* Exprimer la puissance dissipée par effet Joule\n",
    "* Exprimer l'énergie stockée dans un condensateur ou une bobine\n",
    "* Remplacer une association série ou parallèle de deux résistances par une résistance équivalente\n",
    "* Modéliser une source non idéale en utilisant la représentation de Thévenin\n",
    "* Établir et exploiter les relations de diviseurs de tension ou de courant\n",
    "* Appréhender les conséquences des résistances d'entrée et de sortie des appareils sur le fonctionnement du circuit.\n",
    "````"
   ]
  }
 ],
 "metadata": {
  "jupytext": {
   "encoding": "# -*- coding: utf-8 -*-",
   "formats": "ipynb,md:myst",
   "split_at_heading": true,
   "text_representation": {
    "extension": ".md",
    "format_name": "myst",
    "format_version": 0.13,
    "jupytext_version": "1.10.3"
   }
  },
  "kernelspec": {
   "display_name": "Python 3",
   "language": "python",
   "name": "python3"
  },
  "language_info": {
   "codemirror_mode": {
    "name": "ipython",
    "version": 3
   },
   "file_extension": ".py",
   "mimetype": "text/x-python",
   "name": "python",
   "nbconvert_exporter": "python",
   "pygments_lexer": "ipython3",
   "version": "3.7.12"
  },
  "source_map": [
   15
  ]
 },
 "nbformat": 4,
 "nbformat_minor": 5
}