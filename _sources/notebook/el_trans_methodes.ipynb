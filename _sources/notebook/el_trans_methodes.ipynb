{
 "cells": [
  {
   "cell_type": "markdown",
   "id": "8f041af2",
   "metadata": {},
   "source": [
    "# Méthodes d'analyse d'un régime transitoire\n",
    "\n",
    "Nous avons vu quelques caractéristiques du régime transitoire comme son temps caractéristique ou encore l'étude de régime forcé. L'étude du régime transitoire passe par l'étude de la réponse temporelle qu'il convient de déterminer. Pour cela il faut:\n",
    "\n",
    "* déterminer l'équation qui régit l'évolution de la grandeur qui nous intéresse. Nous verrons qu'il s'agit d'une équation différentielle et qu'elle possède certaines propriétés importantes\n",
    "* déterminer les conditions initiales qui permettront de déterminer les constantes d'intégration lors de la résolution. Il faut noter que souvent, ces dernières ne sont pas données mais doivent être déterminées.\n",
    "* Déterminer l'évolution temporelle (u(t) ou i(t) ou le deux) de la grandeur qui nous intéresse. Cela passe par la résolution de l'équation différentielle établie précédemment en utilisant les conditions initiales.\n",
    "\n",
    "## Mise en équation\n",
    "Un exemple de mise en équation est donné [ici](mise_eq). Nous verrons aussi par la suite la mise en équation de circuits RC et RLC série.\n",
    "\n",
    "(ci)=\n",
    "## Détermination des conditions initiales\n",
    "\n",
    "````{margin} Nombre de CI\n",
    "Le nombre de conditions initiales nécessaire est égale à l'ordre du système.\n",
    "````\n",
    "### Continuité des grandeurs\n",
    "\n",
    "````{topic} Problème de continuité\n",
    "Comme nous l'avons évoqué précédemment, le système est souvent soumis à une brusque variation de la grandeur d'entrée, souvent modélisée par un échelon.\n",
    "\n",
    "Cela signifie que la grandeur d'entrée au temps $t_0$ où se produit la perturbation est discontinue. Il vient que les autres grandeurs du système __sont a priori discontinues en $t_0$__.\n",
    "\n",
    "Pour résoudre ce problème, on va utiliser des grandeurs dont on sait qu'elle sont continues __par propriété__.\n",
    "````\n",
    "\n",
    "````{important} __Grandeurs nécessairement continues__\n",
    ":class: full-width\n",
    "* La __tension aux bornes d'un condensateur__ est une grandeur nécessairement continue.\n",
    "* __L'intensité qui circule dans une bobine__ est une grandeur nécessairement continue.\n",
    "````\n",
    "\n",
    "```{topic} __Démonstration__  \n",
    "La dérivée de ces deux grandeurs intervient dans les relations intensité tension de la bobine et du condensateur. Elles sont donc dérivables et donc nécessairement continues.\n",
    "```\n",
    "\n",
    "_Une détermination des CI est proposée [ici](eq_ci)._\n",
    "\n",
    "## Evolution temporelle\n",
    "\n",
    "__Rappel : Méthode de résolution__  \n",
    "On rappelle ici la méthode de résolution d'une équation différentielle. Insistons sur le fait que l'ordre de résolution est fondamental.\n",
    "\n",
    "1. Déterminer à partir de l'équation homogène la solution générale de l'équation sans second membre.\n",
    "1. Déterminer une solution particulière de l'équation avec second membre. __Ne pas utiliser la méthode de la variation de la constante en physique.__\n",
    "1. En déduire la solution générale de l'équation avec second membre en sommant les deux fonctions précédentes.\n",
    "1. Déterminer les constantes d'intégration à partir des conditions initiales.\n",
    "\n",
    "__Autre études__  \n",
    "A partir de la solution déterminée précédemment, on peut être amené à:\n",
    "\n",
    "1. Tracer l'évolution temporelle.\n",
    "1. Analyser un tracé temporel donné pour l'associer au système ou déterminer certaines caractéristiques (conditions initiales, régime forcé, type de régime pour un circuit d'ordre 2 - cf. suite - ... )\n",
    "1. Faire un bilan de puissance ou un bilan énergétique en déterminant la puissance reçue/fournie ou l'énergie reçue/fournie par les différents dipôles.\n",
    "1. ... \n",
    "\n",
    "Un exemple est donnée [ici](eq_autre)"
   ]
  }
 ],
 "metadata": {
  "jupytext": {
   "encoding": "# -*- coding: utf-8 -*-",
   "formats": "ipynb,md:myst",
   "split_at_heading": true,
   "text_representation": {
    "extension": ".md",
    "format_name": "myst",
    "format_version": 0.13,
    "jupytext_version": "1.10.3"
   }
  },
  "kernelspec": {
   "display_name": "Python 3",
   "language": "python",
   "name": "python3"
  },
  "language_info": {
   "codemirror_mode": {
    "name": "ipython",
    "version": 3
   },
   "file_extension": ".py",
   "mimetype": "text/x-python",
   "name": "python",
   "nbconvert_exporter": "python",
   "pygments_lexer": "ipython3",
   "version": "3.9.15"
  },
  "source_map": [
   15
  ]
 },
 "nbformat": 4,
 "nbformat_minor": 5
}