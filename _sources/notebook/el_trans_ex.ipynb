{
 "cells": [
  {
   "cell_type": "markdown",
   "id": "58c2af56",
   "metadata": {},
   "source": [
    "# Maitriser les méthodes\n",
    "* Méthodes : Etude d'un régime transitoire et mise en équation\n",
    "* Activités : Etude des équations d'un même système, oscillateur harmonique, Temps caractéristique et énergie\n",
    "* Applications : En plus des applications du polycopié. Des interrogations de cours sont en ligne [ici](https://stanislas.edunao.com/mod/resource/view.php?id=12840) et [ici](https://stanislas.edunao.com/mod/resource/view.php?id=12841).\n",
    "* Entrainements : En plus des TDs, deux devoirs libres sont [en ligne](https://stanislas.edunao.com/mod/resource/view.php?id=12836). [Le second](https://stanislas.edunao.com/mod/resource/view.php?id=12838) nécessite d'avoir travaillé sur l'amplificateur opérationnel avant.\n",
    "* Approfondissements : Un approfondissement basé sur l'introduction de dipôles non linéaires dans les circuit est disponible [en ligne](https://stanislas.edunao.com/mod/resource/view.php?id=15006)"
   ]
  }
 ],
 "metadata": {
  "jupytext": {
   "encoding": "# -*- coding: utf-8 -*-",
   "formats": "ipynb,md:myst",
   "split_at_heading": true,
   "text_representation": {
    "extension": ".md",
    "format_name": "myst",
    "format_version": 0.13,
    "jupytext_version": "1.10.3"
   }
  },
  "kernelspec": {
   "display_name": "Python 3",
   "language": "python",
   "name": "python3"
  },
  "language_info": {
   "codemirror_mode": {
    "name": "ipython",
    "version": 3
   },
   "file_extension": ".py",
   "mimetype": "text/x-python",
   "name": "python",
   "nbconvert_exporter": "python",
   "pygments_lexer": "ipython3",
   "version": "3.7.12"
  },
  "source_map": [
   15
  ]
 },
 "nbformat": 4,
 "nbformat_minor": 5
}