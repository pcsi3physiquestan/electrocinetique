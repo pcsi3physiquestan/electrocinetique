{
 "cells": [
  {
   "cell_type": "markdown",
   "id": "e8fc9734",
   "metadata": {},
   "source": [
    "# Maitriser les méthodes\n",
    "* Méthodes : Etude d'un régime transitoire et mise en équation\n",
    "* Activités : Etude des équations d'un même système, oscillateur harmonique, Temps caractéristique et énergie\n",
    "* Applications : En plus des applications du polycopié. Des interrogations de cours sont en ligne [ici](https://moodlecpge.stanislas.fr/mod/resource/view.php?id=145) et [ici](https://moodlecpge.stanislas.fr/mod/resource/view.php?id=146).\n",
    "* Entrainements : En plus des TDs, un devoir libre est dans le fascicule.\n",
    "* Approfondissements : Un approfondissement basé sur l'introduction de dipôles non linéaires dans les circuit est disponible [en ligne](https://moodlecpge.stanislas.fr/mod/resource/view.php?id=153) et un autren plus abordable concernant [l'utilisation d'un ALI pour réaliser en pratique un oscillateur harmonique](https://moodlecpge.stanislas.fr/mod/resource/view.php?id=151)."
   ]
  }
 ],
 "metadata": {
  "jupytext": {
   "encoding": "# -*- coding: utf-8 -*-",
   "formats": "ipynb,md:myst",
   "split_at_heading": true,
   "text_representation": {
    "extension": ".md",
    "format_name": "myst",
    "format_version": 0.13,
    "jupytext_version": "1.10.3"
   }
  },
  "kernelspec": {
   "display_name": "Python 3",
   "language": "python",
   "name": "python3"
  },
  "language_info": {
   "codemirror_mode": {
    "name": "ipython",
    "version": 3
   },
   "file_extension": ".py",
   "mimetype": "text/x-python",
   "name": "python",
   "nbconvert_exporter": "python",
   "pygments_lexer": "ipython3",
   "version": "3.9.15"
  },
  "source_map": [
   15
  ]
 },
 "nbformat": 4,
 "nbformat_minor": 5
}