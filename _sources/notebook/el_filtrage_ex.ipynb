{
 "cells": [
  {
   "cell_type": "markdown",
   "id": "ed20dfc9",
   "metadata": {},
   "source": [
    "# Maitriser les méthodes\n",
    "* Méthodes : Etude d'un filtre et de sa réponse\n",
    "* Activités : Typologie des filtres\n",
    "* Applications\n",
    "* Entrainements : En plus du polycopié, un [devoir libre sur les filtres](https://stanislas.edunao.com/mod/resource/view.php?id=12846)"
   ]
  }
 ],
 "metadata": {
  "jupytext": {
   "encoding": "# -*- coding: utf-8 -*-",
   "formats": "ipynb,md:myst",
   "split_at_heading": true,
   "text_representation": {
    "extension": ".md",
    "format_name": "myst",
    "format_version": 0.13,
    "jupytext_version": "1.10.3"
   }
  },
  "kernelspec": {
   "display_name": "Python 3",
   "language": "python",
   "name": "python3"
  },
  "language_info": {
   "codemirror_mode": {
    "name": "ipython",
    "version": 3
   },
   "file_extension": ".py",
   "mimetype": "text/x-python",
   "name": "python",
   "nbconvert_exporter": "python",
   "pygments_lexer": "ipython3",
   "version": "3.9.15"
  },
  "source_map": [
   15
  ]
 },
 "nbformat": 4,
 "nbformat_minor": 5
}