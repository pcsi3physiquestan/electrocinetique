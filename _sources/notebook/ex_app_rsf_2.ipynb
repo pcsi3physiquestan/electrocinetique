{
 "cells": [
  {
   "cell_type": "markdown",
   "id": "reported-dylan",
   "metadata": {},
   "source": [
    "# Activités d'application (2)\n",
    "\n",
    "Cet exercice d'application directe est à faire à la suite du cours pour vérifier votre compréhension des méthodes. Vous pourrez confronter votre travail avec celui de vos camarades et poser des questions sur cet exercice en classe mais il ne sera pas donné de correction complète.\n",
    "\n",
    "Traiter ces exercices d'applications après avoir faire l'application méthode en cours.\n",
    "\n",
    "## RLC parallèlle\n",
    "\n",
    "````{admonition} Exercice \n",
    ":class: attention\n",
    "\n",
    "On considère trois dipôles R, L et C branchés en parallèle. On alimente le dipôle ainsi formé par un source modélisée par un modèle de Thévenin de résistance r et de force électromotrice E sinusoïdale. On étudie le régime sinusoïdal forcée.\n",
    "\n",
    "Étudier la réponse fréquentielle pour l'intensité circulant dans la bobine et la tension aux bornes du dipôle RLC.\n",
    "````\n",
    "\n",
    "````{dropdown} Eléments de réponse (sans justification)\n",
    "Vous devez trouver un comportement \"passe-bas\" pour l'intensité dans la bobine et un comportement passe-bande pour la tension.\n",
    "````"
   ]
  }
 ],
 "metadata": {
  "jupytext": {
   "encoding": "# -*- coding: utf-8 -*-",
   "formats": "ipynb,md:myst",
   "split_at_heading": true,
   "text_representation": {
    "extension": ".md",
    "format_name": "myst",
    "format_version": 0.13,
    "jupytext_version": "1.10.3"
   }
  },
  "kernelspec": {
   "display_name": "Python 3",
   "language": "python",
   "name": "python3"
  },
  "language_info": {
   "codemirror_mode": {
    "name": "ipython",
    "version": 3
   },
   "file_extension": ".py",
   "mimetype": "text/x-python",
   "name": "python",
   "nbconvert_exporter": "python",
   "pygments_lexer": "ipython3",
   "version": "3.9.2"
  },
  "source_map": [
   15
  ]
 },
 "nbformat": 4,
 "nbformat_minor": 5
}