{
 "cells": [
  {
   "cell_type": "markdown",
   "id": "f33b3a86",
   "metadata": {},
   "source": [
    "# Caractéristiques d'un système d'ordre 1\n",
    "__Dans cette partie et la partie suivante, les résultats sont données mais il faut savoir systématiquement les démontrer avant de les utiliser.__ Un exemple complete d'étude est donné [ici](ex_o1)\n",
    "## Forme canonique\n",
    "\n",
    "````{important} __Forme canonique de l'équation différentielle.__\n",
    "Pour une grandeur dans un système d'ordre 1, l'équation différentielle se met sous la forme canonique suivante:\n",
    "\n",
    "$$\n",
    "\\frac{\\rm{d}X}{\\rm{dt}}(t) + \\frac{1}{\\tau} X(t) = F(t)\n",
    "$$\n",
    "Comme on le verra, $\\tau$ est le temps caractéristique du système.\n",
    "````\n",
    "## Evolution temporelle\n",
    "\n",
    "````{important} __Forme temporelle__\n",
    "La solution générale de _l'équation homogène_ a pour forme $A e^{-t/\\tau}$\n",
    "_On rappelle qu'il faut ensuite déterminer la solution particulière qui va dépendre de la tension en entrée._\n",
    "````\n",
    "\n",
    "````{important} __Temps caractéristique d'un système d'ordre 1__\n",
    "La forme générale de la solution de l'équation homogène montre tout de suite que $\\tau$ est le temps caractéristique du système.\n",
    "````\n",
    "\n",
    "````{important} __Evolution temporelle: tracé__\n",
    "On a représenté ci-dessous l'évolution temporelle (t>0) vers un régime forcé indépendant du temps ainsi que le portrait de phase. On peut en tirer plusieurs informations\n",
    "\n",
    "```{figure} ./images/elec_ordre1_trans.png\n",
    ":name: fig_168\n",
    ":align: center\n",
    "```\n",
    "```{margin}\n",
    "Ce sont deux méthodes de mesure de $\\tau$.\n",
    "```\n",
    "Le temps caractéristique fait office de facteur d'échelle comme on peut le voir. On peut le mesurer de deux manières:\n",
    "* A $t = \\tau$, l'écart entre X(t) et l'état final ($X(t=+\\infty)$) vaut 37\\% de l'écart entre $X(t=0^+)$ et l'état final.\n",
    "* Si l'on trace la tangeante à X(t) à un instante $t_1$. Son intersection avec l'asymptote horizontale à $+ \\infty$ (donc avec la droite $y = X(+\\infty)$ se fait à l'instant $t_1 + \\tau$.\n",
    "````\n",
    "\n",
    "## Etude énergétique\n",
    "Nous ne généralisons pas les conclusions obtenues ici mais présentons une [méthode permettant de réaliser un bilan de puissance et un bilan d'énergie ici](ex_o1)."
   ]
  }
 ],
 "metadata": {
  "jupytext": {
   "encoding": "# -*- coding: utf-8 -*-",
   "formats": "ipynb,md:myst",
   "split_at_heading": true,
   "text_representation": {
    "extension": ".md",
    "format_name": "myst",
    "format_version": 0.13,
    "jupytext_version": "1.10.3"
   }
  },
  "kernelspec": {
   "display_name": "Python 3",
   "language": "python",
   "name": "python3"
  },
  "language_info": {
   "codemirror_mode": {
    "name": "ipython",
    "version": 3
   },
   "file_extension": ".py",
   "mimetype": "text/x-python",
   "name": "python",
   "nbconvert_exporter": "python",
   "pygments_lexer": "ipython3",
   "version": "3.9.15"
  },
  "source_map": [
   15
  ]
 },
 "nbformat": 4,
 "nbformat_minor": 5
}