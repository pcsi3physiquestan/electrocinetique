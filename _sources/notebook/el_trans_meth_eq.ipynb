{
 "cells": [
  {
   "cell_type": "markdown",
   "id": "f25a1d1a",
   "metadata": {},
   "source": [
    "# Equations dans un même circuit.\n",
    "````{admonition} Exercice \n",
    ":class: attention\n",
    "\n",
    "On reprend le circuit suivant:\n",
    "\n",
    "```{figure} ./images/elec_circuit_etude_3.png\n",
    ":name: fig_162\n",
    ":align: center\n",
    "```\n",
    "1. Déterminer les équations différentielles qui régissent les évolutions de:\n",
    "    * la tension aux bornes du condensateur\n",
    "    * l'intensité circulant dans le condensateur\n",
    "    * l'intensité circulant dans la f.e.m.\n",
    "2. Comparer ces équations et celle obtenues pour $i_L$. On notera les différences et les ressemblances et on les associera aux différences et ressemblances dans la solution de l'équation.\n",
    "````\n",
    "\n",
    "````{admonition} A retenir\n",
    ":class: tip\n",
    "On retiendra que:\n",
    "* l'équation homogène __est la même pour toute les grandeurs d'un même circuit__. \n",
    "    * Cela signifie que le temps caractéristique sera le même quelque que soit la grandeur, c'est pourquoi on parle de temps caractéristique __du système__. (_Idem pour $\\omega_0$ et $Q$_)\n",
    "* le second membre dépend de la grandeur.\n",
    "    * Cela signifie que que la solution particulière __et donc le régime forcé__ sera __différent__ pour chaque grandeur du système.\n",
    "* Ce sera aussi le cas pour les constantes d'intégration qui dépendront _en plus_ des conditions initiales (contrairement au régime forcé qui ne dépend pas de CI).\n",
    "````"
   ]
  }
 ],
 "metadata": {
  "jupytext": {
   "encoding": "# -*- coding: utf-8 -*-",
   "formats": "ipynb,md:myst",
   "split_at_heading": true,
   "text_representation": {
    "extension": ".md",
    "format_name": "myst",
    "format_version": 0.13,
    "jupytext_version": "1.10.3"
   }
  },
  "kernelspec": {
   "display_name": "Python 3",
   "language": "python",
   "name": "python3"
  },
  "language_info": {
   "codemirror_mode": {
    "name": "ipython",
    "version": 3
   },
   "file_extension": ".py",
   "mimetype": "text/x-python",
   "name": "python",
   "nbconvert_exporter": "python",
   "pygments_lexer": "ipython3",
   "version": "3.9.15"
  },
  "source_map": [
   15
  ]
 },
 "nbformat": 4,
 "nbformat_minor": 5
}