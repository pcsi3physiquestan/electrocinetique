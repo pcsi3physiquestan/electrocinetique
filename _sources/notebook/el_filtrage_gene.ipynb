{
 "cells": [
  {
   "cell_type": "markdown",
   "id": "3f1232cd",
   "metadata": {},
   "source": [
    "# Caractéristiques générales\n",
    "\n",
    "## Bande passante et fréquence de coupure\n",
    "\n",
    "````{sidebar} Choix de la BP\n",
    "En général, on choisit la bande passante comme la bande de fréquence qu'on désire conserver (ou pour fixer la bande filtrée). Mais les filtres n'est pas idéal (la chute du gain n'est pas brutal à la fréquence de coupure), il est souvent nécessaire de garder une marge.\n",
    "````\n",
    "````{important} __Bande passante et fréquence de coupure__\n",
    "* La __bande passante__ d'un filtre est l'intervalle de fréquence pour lesquelles le gain réel est supérieur au gain maximal divisé par $\\sqrt{2}$.\n",
    "* Les __fréquences de coupure__ sont les fréquences telles que le gain réel soit égal au gain maximal divisé par $\\sqrt{2}$.\n",
    "````\n",
    "## Caractère pseudo-dérivateur et pseudo-intégrateur\n",
    "\n",
    "```{sidebar} En pratique\n",
    "En pratique, on ne peut réaliser un dérivateur pur stable (à cause des hautes fréquences). On réalise donc un circuit possèdant un __comportement dérivateur__, c'est-à-dire que la fonction de transfert sera égale (approximativement)à celle d'un dérivateur sur une gamme de fréquence (__les basses fréquences__). On parle de __pseudo-dérivateur__.\n",
    "```\n",
    "````{important} \n",
    "__Comportement dérivateur__\n",
    "\n",
    "* Un système dérivateur est un système dont la relation temporelle s'écrit $s(t) = \\frac{K}{\\omega_0}\\frac{\\rm{d}e}{\\rm{dt}}(t)$. La fonction de transfert d'un tel système s'écrit: $\\underline{H} = jK \\frac{\\omega}{\\omega_0}$.\n",
    "* Un comportement pseudo dérivateur se traduit sur un diagramme de Bode par une asymptote oblique de pente $+20 \\rm{dB/decade}$\n",
    "````\n",
    "\n",
    "```{topic} __Démonstration__  \n",
    "Il suffit de prendre le gain réel puis le gain en décibel de la fonction de transfert approchée $\\underline{H} \\approx jK\\frac{\\omega}{ \\omega_0}$ soit $G_{dB} \\approx 20 \\log \\frac{K}{\\omega_0} + 20 \\log \\omega$.\n",
    "```\n",
    "\n",
    "```{sidebar} En pratique\n",
    "En pratique, on ne peut réaliser un intégrateur pur stable (à cause des basses fréquences). On réalise donc un circuit possèdant un __comportement intégrateur__, c'est-à-dire que la fonction de transfert sera égale (approximativement)à celle d'un intégrateur sur une gamme de fréquence (les hautes fréquences). On parle de __pseudo-intégrateur__.\n",
    "```\n",
    "````{important} \n",
    "__Comportement intégrateur__\n",
    "\n",
    "* Un système intégrateur est un système dont la relation temporelle s'écrit $s(t) = K \\omega_0 \\int e(t)$. La fonction de transfert d'un tel système s'écrit: $\\underline{H} = \\frac{K}{j \\omega / \\omega_0}$.\n",
    "* Un comportement pseudo intégrateur se traduit sur un diagramme de Bode par une asymptote oblique de pente $-20 \\rm{dB/decade}$\n",
    "````\n",
    "\n",
    "````{topic} __Démonstration__  \n",
    "Il suffit de prendre le gain réel puis le gain en décibel de la fonction de transfert approchée $\\underline{H} \\approx \\frac{K}{j \\omega / \\omega_0}$ soit $G_{dB} \\approx 20 \\log K\\omega_0 - 20 \\log \\omega$.\n",
    "````"
   ]
  }
 ],
 "metadata": {
  "jupytext": {
   "encoding": "# -*- coding: utf-8 -*-",
   "formats": "ipynb,md:myst",
   "split_at_heading": true,
   "text_representation": {
    "extension": ".md",
    "format_name": "myst",
    "format_version": 0.13,
    "jupytext_version": "1.10.3"
   }
  },
  "kernelspec": {
   "display_name": "Python 3",
   "language": "python",
   "name": "python3"
  },
  "language_info": {
   "codemirror_mode": {
    "name": "ipython",
    "version": 3
   },
   "file_extension": ".py",
   "mimetype": "text/x-python",
   "name": "python",
   "nbconvert_exporter": "python",
   "pygments_lexer": "ipython3",
   "version": "3.9.15"
  },
  "source_map": [
   15
  ]
 },
 "nbformat": 4,
 "nbformat_minor": 5
}