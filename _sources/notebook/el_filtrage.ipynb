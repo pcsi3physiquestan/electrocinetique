{
 "cells": [
  {
   "cell_type": "markdown",
   "id": "38147ea4",
   "metadata": {},
   "source": [
    "# Filtrage linéaire\n",
    "\n",
    "````{admonition} compétences\n",
    ":class: tip\n",
    "* Comprendre l'intérêt et la typologie des filtres basé sur __leur fonction de transfert.__\n",
    "* Utiliser une fonction de transfert d'ordre 1 ou 2 et ses représentations graphiques pour conduire l'étude d'une réponse d'un système linéaire à une excitation sinusoïdale, à une somme finie d'excitation sinusoïdales, à un signal périodique.\n",
    "* Utiliser les échelles logarithmiques et interpréter les zones rectilignes des diagrammes de Bode d'après la fonction de transfert\n",
    "````"
   ]
  }
 ],
 "metadata": {
  "jupytext": {
   "encoding": "# -*- coding: utf-8 -*-",
   "formats": "ipynb,md:myst",
   "split_at_heading": true,
   "text_representation": {
    "extension": ".md",
    "format_name": "myst",
    "format_version": 0.13,
    "jupytext_version": "1.10.3"
   }
  },
  "kernelspec": {
   "display_name": "Python 3",
   "language": "python",
   "name": "python3"
  },
  "language_info": {
   "codemirror_mode": {
    "name": "ipython",
    "version": 3
   },
   "file_extension": ".py",
   "mimetype": "text/x-python",
   "name": "python",
   "nbconvert_exporter": "python",
   "pygments_lexer": "ipython3",
   "version": "3.9.15"
  },
  "source_map": [
   15
  ]
 },
 "nbformat": 4,
 "nbformat_minor": 5
}